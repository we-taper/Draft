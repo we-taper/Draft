{
 "cells": [
  {
   "cell_type": "markdown",
   "metadata": {},
   "source": [
    "Based on the paper: [Escaping Saddle Points with Adaptive Gradient Methods](https://arxiv.org/abs/1901.09149)\n",
    "\n",
    "It is suggested that we tune the parameter $\\beta$, which is the factor for exponential moving average (EMA) of gradient $gg^T$. The tuning should follow the rule:\n",
    "$$ \\beta = 1 - C \\eta^{2/3},$$\n",
    "for some constant $C$, where $\\eta$ is the learning rate. So we need to tune $C$."
   ]
  },
  {
   "cell_type": "code",
   "execution_count": 13,
   "metadata": {},
   "outputs": [],
   "source": [
    "import matplotlib.pyplot as plt\n",
    "import numpy as np"
   ]
  },
  {
   "cell_type": "code",
   "execution_count": 10,
   "metadata": {},
   "outputs": [
    {
     "data": {
      "text/plain": [
       "<matplotlib.legend.Legend at 0xb2f4bb080>"
      ]
     },
     "execution_count": 10,
     "metadata": {},
     "output_type": "execute_result"
    },
    {
     "data": {
      "image/png": "[encoded data removed]",
      "text/plain": [
       "<Figure size 432x288 with 1 Axes>"
      ]
     },
     "metadata": {
      "needs_background": "light"
     },
     "output_type": "display_data"
    }
   ],
   "source": [
    "fig, ax = plt.subplots(1)\n",
    "ax.set_xscale('log')\n",
    "Cs = [1, 2, 3]\n",
    "eta = np.asarray([1e-1, 5e-2, 1e-2, 5e-3, 1e-3])\n",
    "betas = dict()\n",
    "for C in Cs:\n",
    "    betas[C] = 1 - eta ** (2/3) * C\n",
    "for k in betas.keys():\n",
    "    ax.scatter(eta, betas[k], label='C='+str(k))\n",
    "ax.legend()\n"
   ]
  },
  {
   "cell_type": "code",
   "execution_count": 11,
   "metadata": {},
   "outputs": [
    {
     "data": {
      "text/plain": [
       "array([0.78455653, 0.86427912, 0.95358411, 0.97075982, 0.99      ])"
      ]
     },
     "execution_count": 11,
     "metadata": {},
     "output_type": "execute_result"
    }
   ],
   "source": [
    "betas[1]"
   ]
  },
  {
   "cell_type": "code",
   "execution_count": 12,
   "metadata": {},
   "outputs": [
    {
     "data": {
      "text/plain": [
       "array([0.1  , 0.05 , 0.01 , 0.005, 0.001])"
      ]
     },
     "execution_count": 12,
     "metadata": {},
     "output_type": "execute_result"
    }
   ],
   "source": [
    "eta"
   ]
  }
 ],
 "metadata": {
  "kernelspec": {
   "display_name": "Python [conda env:qml]",
   "language": "python",
   "name": "conda-env-qml-py"
  },
  "language_info": {
   "codemirror_mode": {
    "name": "ipython",
    "version": 3
   },
   "file_extension": ".py",
   "mimetype": "text/x-python",
   "name": "python",
   "nbconvert_exporter": "python",
   "pygments_lexer": "ipython3",
   "version": "3.6.7"
  }
 },
 "nbformat": 4,
 "nbformat_minor": 2
}
